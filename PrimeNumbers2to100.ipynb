{
 "cells": [
  {
   "cell_type": "code",
   "execution_count": 3,
   "id": "55123260-f2fa-41f3-a032-b47f732065e8",
   "metadata": {},
   "outputs": [
    {
     "name": "stdout",
     "output_type": "stream",
     "text": [
      "Prime numbers from 2 to 100 are :  \n",
      "2\n",
      "3\n",
      "5\n",
      "7\n",
      "11\n",
      "13\n",
      "17\n",
      "19\n",
      "23\n",
      "29\n",
      "31\n",
      "37\n",
      "41\n",
      "43\n",
      "47\n",
      "53\n",
      "59\n",
      "61\n",
      "67\n",
      "71\n",
      "73\n",
      "79\n",
      "83\n",
      "89\n",
      "97\n"
     ]
    }
   ],
   "source": [
    "#1.11.   Write a program to find prime numbers between 2 to 100 using nested for loops\n",
    "\n",
    "\n",
    "start=2\n",
    "end=100\n",
    "\n",
    "print(f\"Prime numbers from {start} to {end} are :  \")\n",
    "\n",
    "for num in range(start, end+1):\n",
    "    is_prime=True\n",
    "    \n",
    "    for i in range(2,int(num ** 0.5)+1):\n",
    "        if num %i==0:\n",
    "            is_prime=False\n",
    "            break\n",
    "\n",
    "    if is_prime:\n",
    "        print(num)\n"
   ]
  }
 ],
 "metadata": {
  "kernelspec": {
   "display_name": "Python 3 (ipykernel)",
   "language": "python",
   "name": "python3"
  },
  "language_info": {
   "codemirror_mode": {
    "name": "ipython",
    "version": 3
   },
   "file_extension": ".py",
   "mimetype": "text/x-python",
   "name": "python",
   "nbconvert_exporter": "python",
   "pygments_lexer": "ipython3",
   "version": "3.10.8"
  }
 },
 "nbformat": 4,
 "nbformat_minor": 5
}

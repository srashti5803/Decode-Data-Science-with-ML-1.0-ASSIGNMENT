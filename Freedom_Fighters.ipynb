{
 "cells": [
  {
   "cell_type": "code",
   "execution_count": 1,
   "id": "1510f6fd-bbc2-4098-840e-cfdd98447319",
   "metadata": {},
   "outputs": [
    {
     "name": "stdout",
     "output_type": "stream",
     "text": [
      "['freedom_fighter', 'Mohan', 'dash', 'karam', 'chandra', 'gandhi', 'Bapu']\n",
      "karam\n",
      "['Mohan', 'dash', 'karam']\n",
      "['freedom_fighter', 'Mohan', 'dash', 'karam', 'chandra', 'gandhi', 'Bapu', 'leader']\n",
      "['freedom_fighter', 'Mohan', 'dash', 'karam', 'chandra', 'Bapu', 'leader']\n",
      "1\n"
     ]
    }
   ],
   "source": [
    "#Question 1.3. \n",
    "\n",
    "name = [\"Mohan\", \"dash\", \"karam\", \"chandra\", \"gandhi\", \"Bapu\"]\n",
    "\n",
    "name.insert(0, \"freedom_fighter\")\n",
    "print(name)\n",
    "element = name[3]\n",
    "print(element)\n",
    "sub_list = name[1:4]\n",
    "print(sub_list)\n",
    "name.append(\"leader\")\n",
    "print(name)\n",
    "name.remove(\"gandhi\")\n",
    "print(name)\n",
    "index = name.index(\"Mohan\")\n",
    "print(index)\n"
   ]
  }
 ],
 "metadata": {
  "kernelspec": {
   "display_name": "Python 3 (ipykernel)",
   "language": "python",
   "name": "python3"
  },
  "language_info": {
   "codemirror_mode": {
    "name": "ipython",
    "version": 3
   },
   "file_extension": ".py",
   "mimetype": "text/x-python",
   "name": "python",
   "nbconvert_exporter": "python",
   "pygments_lexer": "ipython3",
   "version": "3.10.8"
  }
 },
 "nbformat": 4,
 "nbformat_minor": 5
}

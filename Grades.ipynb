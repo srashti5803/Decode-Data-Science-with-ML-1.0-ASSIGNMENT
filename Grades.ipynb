{
 "cells": [
  {
   "cell_type": "code",
   "execution_count": 1,
   "id": "0f433307-0a2b-4f3d-a78c-e2b9ff71f248",
   "metadata": {},
   "outputs": [
    {
     "name": "stdin",
     "output_type": "stream",
     "text": [
      "Enter marks for Maths:  90\n",
      "Enter marks for Science:  91\n",
      "Enter marks for English:  90\n",
      "Enter marks for History:  88\n",
      "Enter marks for Computer:  95\n"
     ]
    },
    {
     "name": "stdout",
     "output_type": "stream",
     "text": [
      "\n",
      " Marks obtained: \n",
      "Maths: 90\n",
      "Science: 91\n",
      "English: 90\n",
      "History: 88\n",
      "Computer: 95\n",
      "\n",
      " Total Marks: 454\n",
      "Percentage:  90.80%\n",
      "Grade: A\n"
     ]
    }
   ],
   "source": [
    "#1.12.   Write the  programs for the followingM\n",
    "# ? AcceTt the marks of the student in five major subjects and disTlay the sameS\n",
    "# ? Calculate the sum of the marks of all subjects.Divide the total marks by number of subjects (i.e. 5), calculate \n",
    "# Tercentage = total marks/5 and disTlay the TercentageS\n",
    "# ? Find the grade of the student as Ter the following criteria . \n",
    "\n",
    "\n",
    "subjects=[\"Maths\", \"Science\", \"English\", \"History\",\"Computer\"]\n",
    "marks=[]\n",
    "\n",
    "\n",
    "for subject in subjects:\n",
    "    mark=int(input(f\"Enter marks for {subject}: \"))\n",
    "    marks.append(mark)\n",
    "    \n",
    "print(\"\\n Marks obtained: \")\n",
    "\n",
    "for i in range(len(subjects)):\n",
    "    print(f\"{subjects[i]}: {marks[i]}\")\n",
    "    \n",
    "total_marks =sum(marks)\n",
    "percentage =total_marks/len(subjects)\n",
    "\n",
    "print(f\"\\n Total Marks: {total_marks}\")\n",
    "print(f\"Percentage: {percentage: .2f}%\")\n",
    "\n",
    "\n",
    "if percentage > 85:\n",
    "    grade='A'\n",
    "elif percentage<85 and percentage >=75:\n",
    "    grade='B'\n",
    "elif percentage<75 and percentage >=50:\n",
    "    grade='C'\n",
    "elif percentage<50 and percentage >=30:\n",
    "    grade='D'\n",
    "else:\n",
    "    grade='Reappear'\n",
    "    \n",
    "print(f\"Grade: {grade}\")"
   ]
  }
 ],
 "metadata": {
  "kernelspec": {
   "display_name": "Python 3 (ipykernel)",
   "language": "python",
   "name": "python3"
  },
  "language_info": {
   "codemirror_mode": {
    "name": "ipython",
    "version": 3
   },
   "file_extension": ".py",
   "mimetype": "text/x-python",
   "name": "python",
   "nbconvert_exporter": "python",
   "pygments_lexer": "ipython3",
   "version": "3.10.8"
  }
 },
 "nbformat": 4,
 "nbformat_minor": 5
}

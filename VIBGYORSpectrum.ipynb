{
 "cells": [
  {
   "cell_type": "code",
   "execution_count": 2,
   "id": "53cd1f80-33d8-4a24-b124-8fa11ee1ee5b",
   "metadata": {},
   "outputs": [
    {
     "name": "stdin",
     "output_type": "stream",
     "text": [
      "Enter the wavelength(in nm):  480\n"
     ]
    },
    {
     "name": "stdout",
     "output_type": "stream",
     "text": [
      "The color corresponding to the wavelength 480.0 nm is: Blue\n"
     ]
    }
   ],
   "source": [
    "# 1.13. Write a program for VIBGYOR Spectrum based on their Wavelength using \n",
    "\n",
    "# Wavelength Range\n",
    "\n",
    "\n",
    "\n",
    "vibgyor ={\n",
    "\"Violet\": (400, 440),\n",
    "\"Indigo\":(440, 460),\n",
    "\"Blue\":(460, 500),\n",
    "\"Green\":(500, 570),\n",
    "\"Yellow\": (570, 590),\n",
    "\"Orange\":(590, 620),\n",
    "\"Red\": (620, 720)\n",
    "}\n",
    "\n",
    "\n",
    "\n",
    "def find_color(wavelength):\n",
    "    for color, (start, end) in vibgyor.items():\n",
    "        if start <= wavelength <=end:\n",
    "            return color\n",
    "    return \"Wavelength out of range for VIBGYOR spectrum\"\n",
    "\n",
    "wavelength = float(input(\"Enter the wavelength(in nm): \"))\n",
    "\n",
    "color = find_color(wavelength)\n",
    "print(f\"The color corresponding to the wavelength {wavelength} nm is: {color}\")"
   ]
  }
 ],
 "metadata": {
  "kernelspec": {
   "display_name": "Python 3 (ipykernel)",
   "language": "python",
   "name": "python3"
  },
  "language_info": {
   "codemirror_mode": {
    "name": "ipython",
    "version": 3
   },
   "file_extension": ".py",
   "mimetype": "text/x-python",
   "name": "python",
   "nbconvert_exporter": "python",
   "pygments_lexer": "ipython3",
   "version": "3.10.8"
  }
 },
 "nbformat": 4,
 "nbformat_minor": 5
}

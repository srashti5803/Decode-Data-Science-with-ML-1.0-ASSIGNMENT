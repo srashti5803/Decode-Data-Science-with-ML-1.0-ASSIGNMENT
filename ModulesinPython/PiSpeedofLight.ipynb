{
 "cells": [
  {
   "cell_type": "code",
   "execution_count": 1,
   "id": "06a4a94d-bf3c-4d3f-a627-1fc0a78cc6f8",
   "metadata": {},
   "outputs": [
    {
     "ename": "AttributeError",
     "evalue": "module 'constants' has no attribute 'PI'",
     "output_type": "error",
     "traceback": [
      "\u001b[0;31m---------------------------------------------------------------------------\u001b[0m",
      "\u001b[0;31mAttributeError\u001b[0m                            Traceback (most recent call last)",
      "Cell \u001b[0;32mIn[1], line 14\u001b[0m\n\u001b[1;32m     12\u001b[0m \u001b[38;5;28;01mif\u001b[39;00m \u001b[38;5;18m__name__\u001b[39m \u001b[38;5;241m==\u001b[39m \u001b[38;5;124m\"\u001b[39m\u001b[38;5;124m__main__\u001b[39m\u001b[38;5;124m\"\u001b[39m:\n\u001b[1;32m     13\u001b[0m     radius \u001b[38;5;241m=\u001b[39m \u001b[38;5;241m5\u001b[39m\n\u001b[0;32m---> 14\u001b[0m     area \u001b[38;5;241m=\u001b[39m \u001b[43mcalculate_circle_area\u001b[49m\u001b[43m(\u001b[49m\u001b[43mradius\u001b[49m\u001b[43m)\u001b[49m\n\u001b[1;32m     15\u001b[0m     \u001b[38;5;28mprint\u001b[39m(\u001b[38;5;124mf\u001b[39m\u001b[38;5;124m\"\u001b[39m\u001b[38;5;124mThe area of a circle with radius \u001b[39m\u001b[38;5;132;01m{\u001b[39;00mradius\u001b[38;5;132;01m}\u001b[39;00m\u001b[38;5;124m is \u001b[39m\u001b[38;5;132;01m{\u001b[39;00marea\u001b[38;5;132;01m:\u001b[39;00m\u001b[38;5;124m.2f\u001b[39m\u001b[38;5;132;01m}\u001b[39;00m\u001b[38;5;124m\"\u001b[39m)\n\u001b[1;32m     17\u001b[0m     distance \u001b[38;5;241m=\u001b[39m \u001b[38;5;241m150000000\u001b[39m  \u001b[38;5;66;03m# distance in meters\u001b[39;00m\n",
      "Cell \u001b[0;32mIn[1], line 7\u001b[0m, in \u001b[0;36mcalculate_circle_area\u001b[0;34m(radius)\u001b[0m\n\u001b[1;32m      6\u001b[0m \u001b[38;5;28;01mdef\u001b[39;00m \u001b[38;5;21mcalculate_circle_area\u001b[39m(radius):\n\u001b[0;32m----> 7\u001b[0m     \u001b[38;5;28;01mreturn\u001b[39;00m \u001b[43mconstants\u001b[49m\u001b[38;5;241;43m.\u001b[39;49m\u001b[43mPI\u001b[49m \u001b[38;5;241m*\u001b[39m radius \u001b[38;5;241m*\u001b[39m radius\n",
      "\u001b[0;31mAttributeError\u001b[0m: module 'constants' has no attribute 'PI'"
     ]
    }
   ],
   "source": [
    "\n",
    "\n",
    "# main.py\n",
    "\n",
    "# Import the constants module\n",
    "import constants\n",
    "\n",
    "def calculate_circle_area(radius):\n",
    "    return constants.PI * radius * radius\n",
    "\n",
    "def calculate_travel_time(distance):\n",
    "    return distance / constants.SPEED_OF_LIGHT\n",
    "\n",
    "if __name__ == \"__main__\":\n",
    "    radius = 5\n",
    "    area = calculate_circle_area(radius)\n",
    "    print(f\"The area of a circle with radius {radius} is {area:.2f}\")\n",
    "\n",
    "    distance = 150000000  # distance in meters\n",
    "    time = calculate_travel_time(distance)\n",
    "    print(f\"The time taken for light to travel {distance} meters is {time:.2f} seconds\")\n"
   ]
  }
 ],
 "metadata": {
  "kernelspec": {
   "display_name": "Python 3 (ipykernel)",
   "language": "python",
   "name": "python3"
  },
  "language_info": {
   "codemirror_mode": {
    "name": "ipython",
    "version": 3
   },
   "file_extension": ".py",
   "mimetype": "text/x-python",
   "name": "python",
   "nbconvert_exporter": "python",
   "pygments_lexer": "ipython3",
   "version": "3.10.8"
  }
 },
 "nbformat": 4,
 "nbformat_minor": 5
}

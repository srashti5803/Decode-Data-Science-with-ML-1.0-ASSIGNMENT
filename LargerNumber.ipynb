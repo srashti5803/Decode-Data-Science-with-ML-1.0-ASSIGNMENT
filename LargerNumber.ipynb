{
 "cells": [
  {
   "cell_type": "code",
   "execution_count": 1,
   "id": "f1b99790-b628-48a5-a924-a1942dcb5afd",
   "metadata": {},
   "outputs": [
    {
     "name": "stdin",
     "output_type": "stream",
     "text": [
      "Enter first number 7\n",
      "Enter second number 3\n",
      "Enter third number 9\n"
     ]
    },
    {
     "name": "stdout",
     "output_type": "stream",
     "text": [
      "The largest number is: 9.0\n"
     ]
    }
   ],
   "source": [
    "#1.8  Write a program to find the larger of the three pre-specified numbers using ternary operators.\n",
    "\n",
    "#Input three numbers\n",
    "a=float(input(\"Enter first number\"))\n",
    "b=float(input(\"Enter second number\"))\n",
    "c=float(input(\"Enter third number\"))\n",
    "\n",
    "largest = a if (a>b and a>c) else (b if b>c else c)\n",
    "\n",
    "print(f\"The largest number is: {largest}\")"
   ]
  }
 ],
 "metadata": {
  "kernelspec": {
   "display_name": "Python 3 (ipykernel)",
   "language": "python",
   "name": "python3"
  },
  "language_info": {
   "codemirror_mode": {
    "name": "ipython",
    "version": 3
   },
   "file_extension": ".py",
   "mimetype": "text/x-python",
   "name": "python",
   "nbconvert_exporter": "python",
   "pygments_lexer": "ipython3",
   "version": "3.10.8"
  }
 },
 "nbformat": 4,
 "nbformat_minor": 5
}

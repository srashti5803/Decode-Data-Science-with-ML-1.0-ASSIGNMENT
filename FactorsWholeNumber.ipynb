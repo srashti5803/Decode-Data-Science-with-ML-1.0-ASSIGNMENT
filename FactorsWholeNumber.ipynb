{
 "cells": [
  {
   "cell_type": "code",
   "execution_count": 3,
   "id": "f03ada78-aeab-4530-8e5b-979fde6ac622",
   "metadata": {},
   "outputs": [
    {
     "name": "stdin",
     "output_type": "stream",
     "text": [
      "Enter the number 28\n"
     ]
    },
    {
     "name": "stdout",
     "output_type": "stream",
     "text": [
      "Factors of 28 are:\n",
      "1\n",
      "2\n",
      "4\n",
      "7\n",
      "14\n",
      "28\n"
     ]
    }
   ],
   "source": [
    "#1.9.  Write a program to find the factors of a whole number  using a while loop\n",
    "\n",
    "#input the number\n",
    "num=int(input(\"Enter the number\"))\n",
    "divisor=1\n",
    "\n",
    "print(f\"Factors of {num} are:\")\n",
    "\n",
    "while divisor<= num:\n",
    "    if num % divisor==0:\n",
    "        print(divisor)\n",
    "    divisor+=1"
   ]
  }
 ],
 "metadata": {
  "kernelspec": {
   "display_name": "Python 3 (ipykernel)",
   "language": "python",
   "name": "python3"
  },
  "language_info": {
   "codemirror_mode": {
    "name": "ipython",
    "version": 3
   },
   "file_extension": ".py",
   "mimetype": "text/x-python",
   "name": "python",
   "nbconvert_exporter": "python",
   "pygments_lexer": "ipython3",
   "version": "3.10.8"
  }
 },
 "nbformat": 4,
 "nbformat_minor": 5
}

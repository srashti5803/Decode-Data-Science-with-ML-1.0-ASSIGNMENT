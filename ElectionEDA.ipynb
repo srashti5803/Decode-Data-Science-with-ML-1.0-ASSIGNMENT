{
 "cells": [
  {
   "cell_type": "code",
   "execution_count": 1,
   "id": "ada5c3e8-e1df-44a5-bae5-078afdfc5c60",
   "metadata": {},
   "outputs": [],
   "source": [
    "import pandas as pd\n",
    "import numpy as np\n",
    "import matplotlib.pyplot as plt\n",
    "import seaborn as sns\n",
    "%matplotlib inline\n",
    "\n",
    "import warnings \n",
    "warnings.filterwarnings('ignore')"
   ]
  },
  {
   "cell_type": "code",
   "execution_count": 2,
   "id": "b47e33b3-63b1-4a70-956f-ff129e397032",
   "metadata": {},
   "outputs": [],
   "source": [
    "df=pd.read_csv(\"election2024.csv\")"
   ]
  },
  {
   "cell_type": "code",
   "execution_count": 4,
   "id": "4718b1d7-2b95-4c33-bc00-8cac8f609c16",
   "metadata": {},
   "outputs": [
    {
     "data": {
      "text/html": [
       "<div>\n",
       "<style scoped>\n",
       "    .dataframe tbody tr th:only-of-type {\n",
       "        vertical-align: middle;\n",
       "    }\n",
       "\n",
       "    .dataframe tbody tr th {\n",
       "        vertical-align: top;\n",
       "    }\n",
       "\n",
       "    .dataframe thead th {\n",
       "        text-align: right;\n",
       "    }\n",
       "</style>\n",
       "<table border=\"1\" class=\"dataframe\">\n",
       "  <thead>\n",
       "    <tr style=\"text-align: right;\">\n",
       "      <th></th>\n",
       "      <th>id</th>\n",
       "      <th>sex</th>\n",
       "      <th>age</th>\n",
       "      <th>federal_district</th>\n",
       "      <th>type_of_city</th>\n",
       "      <th>knows_election_date</th>\n",
       "      <th>will_vote</th>\n",
       "      <th>candidate</th>\n",
       "      <th>television_usage</th>\n",
       "      <th>internet_usage</th>\n",
       "      <th>education</th>\n",
       "      <th>income</th>\n",
       "      <th>employment</th>\n",
       "      <th>job_type</th>\n",
       "      <th>company_type</th>\n",
       "      <th>weight1</th>\n",
       "    </tr>\n",
       "  </thead>\n",
       "  <tbody>\n",
       "    <tr>\n",
       "      <th>0</th>\n",
       "      <td>07169ed8148ce047</td>\n",
       "      <td>male</td>\n",
       "      <td>18.0</td>\n",
       "      <td>north caucasian</td>\n",
       "      <td>village</td>\n",
       "      <td>named correct date</td>\n",
       "      <td>not sure</td>\n",
       "      <td>Putin</td>\n",
       "      <td>several times a week</td>\n",
       "      <td>over 4 hours a day</td>\n",
       "      <td>incomplete school education</td>\n",
       "      <td>very high</td>\n",
       "      <td>entrepreneur</td>\n",
       "      <td>NaN</td>\n",
       "      <td>farming</td>\n",
       "      <td>1.445172</td>\n",
       "    </tr>\n",
       "    <tr>\n",
       "      <th>1</th>\n",
       "      <td>0716a4f3354cecdd</td>\n",
       "      <td>male</td>\n",
       "      <td>23.0</td>\n",
       "      <td>north caucasian</td>\n",
       "      <td>village</td>\n",
       "      <td>named correct date</td>\n",
       "      <td>not sure</td>\n",
       "      <td>Putin</td>\n",
       "      <td>once half a year</td>\n",
       "      <td>over 4 hours a day</td>\n",
       "      <td>college</td>\n",
       "      <td>very high</td>\n",
       "      <td>work for hire</td>\n",
       "      <td>commercial organization</td>\n",
       "      <td>trade</td>\n",
       "      <td>1.445172</td>\n",
       "    </tr>\n",
       "    <tr>\n",
       "      <th>2</th>\n",
       "      <td>0716889b304ce79c</td>\n",
       "      <td>male</td>\n",
       "      <td>20.0</td>\n",
       "      <td>volga</td>\n",
       "      <td>city with population of less than 50k</td>\n",
       "      <td>named correct date</td>\n",
       "      <td>definitely yes</td>\n",
       "      <td>Putin</td>\n",
       "      <td>several times a week</td>\n",
       "      <td>over 4 hours a day</td>\n",
       "      <td>college</td>\n",
       "      <td>very high</td>\n",
       "      <td>work for hire</td>\n",
       "      <td>law enforcement agency</td>\n",
       "      <td>law enforcement agency</td>\n",
       "      <td>1.301691</td>\n",
       "    </tr>\n",
       "    <tr>\n",
       "      <th>3</th>\n",
       "      <td>07168e28b5cce563</td>\n",
       "      <td>male</td>\n",
       "      <td>22.0</td>\n",
       "      <td>northwestern</td>\n",
       "      <td>city with population of 1 million and higher</td>\n",
       "      <td>not sure or no answer</td>\n",
       "      <td>not sure</td>\n",
       "      <td>Davankov</td>\n",
       "      <td>several times a week</td>\n",
       "      <td>over 4 hours a day</td>\n",
       "      <td>college</td>\n",
       "      <td>very high</td>\n",
       "      <td>unemployed</td>\n",
       "      <td>NaN</td>\n",
       "      <td>NaN</td>\n",
       "      <td>1.538628</td>\n",
       "    </tr>\n",
       "    <tr>\n",
       "      <th>4</th>\n",
       "      <td>0716a563914ce549</td>\n",
       "      <td>male</td>\n",
       "      <td>21.0</td>\n",
       "      <td>southern</td>\n",
       "      <td>city with population of 1 million and higher</td>\n",
       "      <td>named correct date</td>\n",
       "      <td>definitely yes</td>\n",
       "      <td>Putin</td>\n",
       "      <td>does not watch</td>\n",
       "      <td>over 4 hours a day</td>\n",
       "      <td>bachelor degree</td>\n",
       "      <td>very high</td>\n",
       "      <td>employed student</td>\n",
       "      <td>commercial organization</td>\n",
       "      <td>tech, programming, communications</td>\n",
       "      <td>1.967015</td>\n",
       "    </tr>\n",
       "  </tbody>\n",
       "</table>\n",
       "</div>"
      ],
      "text/plain": [
       "                 id   sex   age federal_district  \\\n",
       "0  07169ed8148ce047  male  18.0  north caucasian   \n",
       "1  0716a4f3354cecdd  male  23.0  north caucasian   \n",
       "2  0716889b304ce79c  male  20.0            volga   \n",
       "3  07168e28b5cce563  male  22.0     northwestern   \n",
       "4  0716a563914ce549  male  21.0         southern   \n",
       "\n",
       "                                   type_of_city    knows_election_date  \\\n",
       "0                                       village     named correct date   \n",
       "1                                       village     named correct date   \n",
       "2         city with population of less than 50k     named correct date   \n",
       "3  city with population of 1 million and higher  not sure or no answer   \n",
       "4  city with population of 1 million and higher     named correct date   \n",
       "\n",
       "        will_vote candidate      television_usage      internet_usage  \\\n",
       "0        not sure     Putin  several times a week  over 4 hours a day   \n",
       "1        not sure     Putin      once half a year  over 4 hours a day   \n",
       "2  definitely yes     Putin  several times a week  over 4 hours a day   \n",
       "3        not sure  Davankov  several times a week  over 4 hours a day   \n",
       "4  definitely yes     Putin        does not watch  over 4 hours a day   \n",
       "\n",
       "                     education     income        employment  \\\n",
       "0  incomplete school education  very high      entrepreneur   \n",
       "1                      college  very high     work for hire   \n",
       "2                      college  very high     work for hire   \n",
       "3                      college  very high        unemployed   \n",
       "4              bachelor degree  very high  employed student   \n",
       "\n",
       "                  job_type                       company_type   weight1  \n",
       "0                      NaN                            farming  1.445172  \n",
       "1  commercial organization                              trade  1.445172  \n",
       "2   law enforcement agency             law enforcement agency  1.301691  \n",
       "3                      NaN                                NaN  1.538628  \n",
       "4  commercial organization  tech, programming, communications  1.967015  "
      ]
     },
     "execution_count": 4,
     "metadata": {},
     "output_type": "execute_result"
    }
   ],
   "source": [
    "df.head()"
   ]
  },
  {
   "cell_type": "code",
   "execution_count": 5,
   "id": "1c57df30-8773-496b-b2dd-d4bb4d6b379c",
   "metadata": {},
   "outputs": [
    {
     "data": {
      "text/plain": [
       "(1600, 16)"
      ]
     },
     "execution_count": 5,
     "metadata": {},
     "output_type": "execute_result"
    }
   ],
   "source": [
    "df.shape"
   ]
  },
  {
   "cell_type": "code",
   "execution_count": 6,
   "id": "c8d6cb2f-fb38-4cfb-81e6-e8e2978cfc57",
   "metadata": {},
   "outputs": [
    {
     "data": {
      "text/plain": [
       "<bound method NDFrame.tail of                     id     sex   age federal_district  \\\n",
       "0     07169ed8148ce047    male  18.0  north caucasian   \n",
       "1     0716a4f3354cecdd    male  23.0  north caucasian   \n",
       "2     0716889b304ce79c    male  20.0            volga   \n",
       "3     07168e28b5cce563    male  22.0     northwestern   \n",
       "4     0716a563914ce549    male  21.0         southern   \n",
       "...                ...     ...   ...              ...   \n",
       "1595  0716b23c2c0cee3a    male  61.0          central   \n",
       "1596  07168254d14ceb55  female  80.0            volga   \n",
       "1597  071690f34d4ce164  female  76.0     northwestern   \n",
       "1598  0716bfa9c48ce79a  female  74.0          central   \n",
       "1599  07168088318cef88  female  76.0             ural   \n",
       "\n",
       "                                      type_of_city    knows_election_date  \\\n",
       "0                                          village     named correct date   \n",
       "1                                          village     named correct date   \n",
       "2            city with population of less than 50k     named correct date   \n",
       "3     city with population of 1 million and higher  not sure or no answer   \n",
       "4     city with population of 1 million and higher     named correct date   \n",
       "...                                            ...                    ...   \n",
       "1595                                    settlement     named correct date   \n",
       "1596                                       village     named correct date   \n",
       "1597               city with population of 50-100k     named correct date   \n",
       "1598         city with population of less than 50k  not sure or no answer   \n",
       "1599                                       village     named correct date   \n",
       "\n",
       "           will_vote           candidate      television_usage  \\\n",
       "0           not sure               Putin  several times a week   \n",
       "1           not sure               Putin      once half a year   \n",
       "2     definitely yes               Putin  several times a week   \n",
       "3           not sure            Davankov  several times a week   \n",
       "4     definitely yes               Putin        does not watch   \n",
       "...              ...                 ...                   ...   \n",
       "1595   definitely no  will not take part    over 4 hours a day   \n",
       "1596      likely yes  struggle to answer  several times a week   \n",
       "1597  definitely yes               Putin        does not watch   \n",
       "1598  definitely yes               Putin    over 4 hours a day   \n",
       "1599  definitely yes               Putin    over 4 hours a day   \n",
       "\n",
       "               internet_usage                    education       income  \\\n",
       "0          over 4 hours a day  incomplete school education    very high   \n",
       "1          over 4 hours a day                      college    very high   \n",
       "2          over 4 hours a day                      college    very high   \n",
       "3          over 4 hours a day                      college    very high   \n",
       "4          over 4 hours a day              bachelor degree    very high   \n",
       "...                       ...                          ...          ...   \n",
       "1595  less than 4 hours a day              bachelor degree  hard to say   \n",
       "1596    does not use internet                      college  hard to say   \n",
       "1597       over 4 hours a day              bachelor degree  hard to say   \n",
       "1598       over 4 hours a day              academic degree  hard to say   \n",
       "1599       over 4 hours a day                       school  hard to say   \n",
       "\n",
       "                employment                 job_type  \\\n",
       "0             entrepreneur                      NaN   \n",
       "1            work for hire  commercial organization   \n",
       "2            work for hire   law enforcement agency   \n",
       "3               unemployed                      NaN   \n",
       "4         employed student  commercial organization   \n",
       "...                    ...                      ...   \n",
       "1595  unemployed pensioner                      NaN   \n",
       "1596  unemployed pensioner                      NaN   \n",
       "1597  unemployed pensioner                      NaN   \n",
       "1598    employed pensioner  commercial organization   \n",
       "1599  unemployed pensioner                      NaN   \n",
       "\n",
       "                           company_type   weight1  \n",
       "0                               farming  1.445172  \n",
       "1                                 trade  1.445172  \n",
       "2                law enforcement agency  1.301691  \n",
       "3                                   NaN  1.538628  \n",
       "4     tech, programming, communications  1.967015  \n",
       "...                                 ...       ...  \n",
       "1595                                NaN  1.270761  \n",
       "1596                                NaN  0.921724  \n",
       "1597                                NaN  1.396691  \n",
       "1598            industry, manufacturing  0.995849  \n",
       "1599                                NaN  0.860836  \n",
       "\n",
       "[1600 rows x 16 columns]>"
      ]
     },
     "execution_count": 6,
     "metadata": {},
     "output_type": "execute_result"
    }
   ],
   "source": [
    "df.tail"
   ]
  },
  {
   "cell_type": "code",
   "execution_count": 7,
   "id": "0f6bc5d9-54e7-485f-a1bc-a5dbe224bfb6",
   "metadata": {},
   "outputs": [
    {
     "data": {
      "text/html": [
       "<div>\n",
       "<style scoped>\n",
       "    .dataframe tbody tr th:only-of-type {\n",
       "        vertical-align: middle;\n",
       "    }\n",
       "\n",
       "    .dataframe tbody tr th {\n",
       "        vertical-align: top;\n",
       "    }\n",
       "\n",
       "    .dataframe thead th {\n",
       "        text-align: right;\n",
       "    }\n",
       "</style>\n",
       "<table border=\"1\" class=\"dataframe\">\n",
       "  <thead>\n",
       "    <tr style=\"text-align: right;\">\n",
       "      <th></th>\n",
       "      <th>id</th>\n",
       "      <th>sex</th>\n",
       "      <th>age</th>\n",
       "      <th>federal_district</th>\n",
       "      <th>type_of_city</th>\n",
       "      <th>knows_election_date</th>\n",
       "      <th>will_vote</th>\n",
       "      <th>candidate</th>\n",
       "      <th>television_usage</th>\n",
       "      <th>internet_usage</th>\n",
       "      <th>education</th>\n",
       "      <th>income</th>\n",
       "      <th>employment</th>\n",
       "      <th>job_type</th>\n",
       "      <th>company_type</th>\n",
       "      <th>weight1</th>\n",
       "    </tr>\n",
       "  </thead>\n",
       "  <tbody>\n",
       "    <tr>\n",
       "      <th>1317</th>\n",
       "      <td>07168f9f4acced08</td>\n",
       "      <td>female</td>\n",
       "      <td>77.0</td>\n",
       "      <td>northwestern</td>\n",
       "      <td>city with population of 100-500k</td>\n",
       "      <td>named correct date</td>\n",
       "      <td>definitely yes</td>\n",
       "      <td>Putin</td>\n",
       "      <td>less than 4 hours a day</td>\n",
       "      <td>less than 4 hours a day</td>\n",
       "      <td>bachelor degree</td>\n",
       "      <td>medium</td>\n",
       "      <td>unemployed pensioner</td>\n",
       "      <td>NaN</td>\n",
       "      <td>NaN</td>\n",
       "      <td>0.592643</td>\n",
       "    </tr>\n",
       "  </tbody>\n",
       "</table>\n",
       "</div>"
      ],
      "text/plain": [
       "                    id     sex   age federal_district  \\\n",
       "1317  07168f9f4acced08  female  77.0     northwestern   \n",
       "\n",
       "                          type_of_city knows_election_date       will_vote  \\\n",
       "1317  city with population of 100-500k  named correct date  definitely yes   \n",
       "\n",
       "     candidate         television_usage           internet_usage  \\\n",
       "1317     Putin  less than 4 hours a day  less than 4 hours a day   \n",
       "\n",
       "            education  income            employment job_type company_type  \\\n",
       "1317  bachelor degree  medium  unemployed pensioner      NaN          NaN   \n",
       "\n",
       "       weight1  \n",
       "1317  0.592643  "
      ]
     },
     "execution_count": 7,
     "metadata": {},
     "output_type": "execute_result"
    }
   ],
   "source": [
    "df.sample(1)"
   ]
  },
  {
   "cell_type": "code",
   "execution_count": 8,
   "id": "5d7c2a5d-66ee-4693-82c5-e6bec8e4a246",
   "metadata": {},
   "outputs": [
    {
     "name": "stdout",
     "output_type": "stream",
     "text": [
      "['id' 'sex' 'age' 'federal_district' 'type_of_city' 'knows_election_date'\n",
      " 'will_vote' 'candidate' 'television_usage' 'internet_usage' 'education'\n",
      " 'income' 'employment' 'job_type' 'company_type' 'weight1']\n"
     ]
    }
   ],
   "source": [
    "print(df.columns.values)"
   ]
  },
  {
   "cell_type": "code",
   "execution_count": 9,
   "id": "3099f6fa-b4ed-4c4f-a9c2-33da2019e180",
   "metadata": {},
   "outputs": [
    {
     "data": {
      "text/plain": [
       "id                       0\n",
       "sex                      0\n",
       "age                      0\n",
       "federal_district         0\n",
       "type_of_city             0\n",
       "knows_election_date      0\n",
       "will_vote                0\n",
       "candidate                0\n",
       "television_usage         0\n",
       "internet_usage           0\n",
       "education                0\n",
       "income                   0\n",
       "employment               0\n",
       "job_type               908\n",
       "company_type           721\n",
       "weight1                  0\n",
       "dtype: int64"
      ]
     },
     "execution_count": 9,
     "metadata": {},
     "output_type": "execute_result"
    }
   ],
   "source": [
    "df.isna().sum()"
   ]
  },
  {
   "cell_type": "code",
   "execution_count": 10,
   "id": "1d26ff99-3da8-42a0-b7c0-9b183b452d12",
   "metadata": {},
   "outputs": [
    {
     "data": {
      "text/html": [
       "<div>\n",
       "<style scoped>\n",
       "    .dataframe tbody tr th:only-of-type {\n",
       "        vertical-align: middle;\n",
       "    }\n",
       "\n",
       "    .dataframe tbody tr th {\n",
       "        vertical-align: top;\n",
       "    }\n",
       "\n",
       "    .dataframe thead th {\n",
       "        text-align: right;\n",
       "    }\n",
       "</style>\n",
       "<table border=\"1\" class=\"dataframe\">\n",
       "  <thead>\n",
       "    <tr style=\"text-align: right;\">\n",
       "      <th></th>\n",
       "      <th>age</th>\n",
       "      <th>weight1</th>\n",
       "    </tr>\n",
       "  </thead>\n",
       "  <tbody>\n",
       "    <tr>\n",
       "      <th>count</th>\n",
       "      <td>1600.000000</td>\n",
       "      <td>1600.000000</td>\n",
       "    </tr>\n",
       "    <tr>\n",
       "      <th>mean</th>\n",
       "      <td>49.936250</td>\n",
       "      <td>1.000000</td>\n",
       "    </tr>\n",
       "    <tr>\n",
       "      <th>std</th>\n",
       "      <td>16.901797</td>\n",
       "      <td>0.327084</td>\n",
       "    </tr>\n",
       "    <tr>\n",
       "      <th>min</th>\n",
       "      <td>18.000000</td>\n",
       "      <td>0.468226</td>\n",
       "    </tr>\n",
       "    <tr>\n",
       "      <th>25%</th>\n",
       "      <td>37.000000</td>\n",
       "      <td>0.772224</td>\n",
       "    </tr>\n",
       "    <tr>\n",
       "      <th>50%</th>\n",
       "      <td>49.000000</td>\n",
       "      <td>0.921724</td>\n",
       "    </tr>\n",
       "    <tr>\n",
       "      <th>75%</th>\n",
       "      <td>64.000000</td>\n",
       "      <td>1.158913</td>\n",
       "    </tr>\n",
       "    <tr>\n",
       "      <th>max</th>\n",
       "      <td>90.000000</td>\n",
       "      <td>2.515072</td>\n",
       "    </tr>\n",
       "  </tbody>\n",
       "</table>\n",
       "</div>"
      ],
      "text/plain": [
       "               age      weight1\n",
       "count  1600.000000  1600.000000\n",
       "mean     49.936250     1.000000\n",
       "std      16.901797     0.327084\n",
       "min      18.000000     0.468226\n",
       "25%      37.000000     0.772224\n",
       "50%      49.000000     0.921724\n",
       "75%      64.000000     1.158913\n",
       "max      90.000000     2.515072"
      ]
     },
     "execution_count": 10,
     "metadata": {},
     "output_type": "execute_result"
    }
   ],
   "source": [
    "df.describe()"
   ]
  },
  {
   "cell_type": "code",
   "execution_count": 11,
   "id": "49c2a60d-98da-481e-9199-e8515bae8db6",
   "metadata": {},
   "outputs": [
    {
     "data": {
      "text/plain": [
       "Index(['id', 'sex', 'age', 'federal_district', 'type_of_city',\n",
       "       'knows_election_date', 'will_vote', 'candidate', 'television_usage',\n",
       "       'internet_usage', 'education', 'income', 'employment', 'job_type',\n",
       "       'company_type', 'weight1'],\n",
       "      dtype='object')"
      ]
     },
     "execution_count": 11,
     "metadata": {},
     "output_type": "execute_result"
    }
   ],
   "source": [
    "df.columns"
   ]
  },
  {
   "cell_type": "code",
   "execution_count": 12,
   "id": "eeb1519b-feb6-46e7-a28f-a146c1416c96",
   "metadata": {},
   "outputs": [
    {
     "data": {
      "text/plain": [
       "id                      object\n",
       "sex                     object\n",
       "age                    float64\n",
       "federal_district        object\n",
       "type_of_city            object\n",
       "knows_election_date     object\n",
       "will_vote               object\n",
       "candidate               object\n",
       "television_usage        object\n",
       "internet_usage          object\n",
       "education               object\n",
       "income                  object\n",
       "employment              object\n",
       "job_type                object\n",
       "company_type            object\n",
       "weight1                float64\n",
       "dtype: object"
      ]
     },
     "execution_count": 12,
     "metadata": {},
     "output_type": "execute_result"
    }
   ],
   "source": [
    "df.dtypes"
   ]
  },
  {
   "cell_type": "code",
   "execution_count": 15,
   "id": "416853a0-4a7d-4176-bcab-bd85b03e99ea",
   "metadata": {},
   "outputs": [
    {
     "data": {
      "text/plain": [
       "<AxesSubplot: xlabel='sex', ylabel='count'>"
      ]
     },
     "execution_count": 15,
     "metadata": {},
     "output_type": "execute_result"
    },
    {
     "data": {
      "image/png": "[encoded data removed]",
      "text/plain": [
       "<Figure size 640x480 with 1 Axes>"
      ]
     },
     "metadata": {},
     "output_type": "display_data"
    }
   ],
   "source": [
    "sns.countplot(x='sex', hue='income', data=df)"
   ]
  }
 ],
 "metadata": {
  "kernelspec": {
   "display_name": "Python 3 (ipykernel)",
   "language": "python",
   "name": "python3"
  },
  "language_info": {
   "codemirror_mode": {
    "name": "ipython",
    "version": 3
   },
   "file_extension": ".py",
   "mimetype": "text/x-python",
   "name": "python",
   "nbconvert_exporter": "python",
   "pygments_lexer": "ipython3",
   "version": "3.10.8"
  }
 },
 "nbformat": 4,
 "nbformat_minor": 5
}

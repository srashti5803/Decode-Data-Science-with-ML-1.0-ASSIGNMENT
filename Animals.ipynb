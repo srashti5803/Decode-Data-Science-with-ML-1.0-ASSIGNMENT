{
 "cells": [
  {
   "cell_type": "code",
   "execution_count": 1,
   "id": "b2e47dd5-ffd1-41ae-a855-173ff83762e4",
   "metadata": {},
   "outputs": [
    {
     "name": "stdout",
     "output_type": "stream",
     "text": [
      "Dog says: Woof!\n",
      "Cat says: Meow!\n"
     ]
    }
   ],
   "source": [
    "# 5.Write a Python program that models different animals and their sounds. Design a base class called \n",
    "# `Animal` with a method `ma\u000fe_sound()`. Create subclasses li\u000fe `Dog` and `Cat` that override the \n",
    "# `ma\u000fe_sound()` method to produce appropriate sounds.\n",
    "\n",
    "\n",
    "# Tasks\u000e\n",
    "# 3 1. Define the `Animal` class with a method `make_sound()`\u0016\n",
    "# 3 2. Create subclasses `Dog` and `Cat` that override the `make_sound()` method\u0016\n",
    "# 3 3. Implement the sound generation logic for each subclass\u0016\n",
    "# 3 4. Test the program by creating instances of `Dog` and `Cat` and calling the `make_sound()` method.\n",
    "\n",
    "\n",
    "\n",
    "\n",
    "class Animal:\n",
    "    def make_sound(self):\n",
    "        pass  # This method will be overridden by subclasses\n",
    "\n",
    "\n",
    "class Dog(Animal):\n",
    "    def make_sound(self):\n",
    "        return \"Woof!\"\n",
    "\n",
    "\n",
    "class Cat(Animal):\n",
    "    def make_sound(self):\n",
    "        return \"Meow!\"\n",
    "\n",
    "\n",
    "# Test the program\n",
    "if __name__ == \"__main__\":\n",
    "    # Create instances of Dog and Cat\n",
    "    dog = Dog()\n",
    "    cat = Cat()\n",
    "\n",
    "    # Test the make_sound() method\n",
    "    print(\"Dog says:\", dog.make_sound())\n",
    "    print(\"Cat says:\", cat.make_sound())\n"
   ]
  }
 ],
 "metadata": {
  "kernelspec": {
   "display_name": "Python 3 (ipykernel)",
   "language": "python",
   "name": "python3"
  },
  "language_info": {
   "codemirror_mode": {
    "name": "ipython",
    "version": 3
   },
   "file_extension": ".py",
   "mimetype": "text/x-python",
   "name": "python",
   "nbconvert_exporter": "python",
   "pygments_lexer": "ipython3",
   "version": "3.10.8"
  }
 },
 "nbformat": 4,
 "nbformat_minor": 5
}

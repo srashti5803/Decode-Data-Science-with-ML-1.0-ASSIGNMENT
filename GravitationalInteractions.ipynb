{
 "cells": [
  {
   "cell_type": "code",
   "execution_count": 1,
   "id": "4fc59d49-9b29-4440-a1b7-9a9ca3e28e73",
   "metadata": {},
   "outputs": [
    {
     "name": "stdout",
     "output_type": "stream",
     "text": [
      "Gravitational force between Earth and Sun: 3.54e+22 N\n",
      "Gravitational force between Moon and Earth: 1.98e+20 N\n",
      "The stronger gravitational force is: Earth-Sun\n",
      "The Earth is more attracted to the Sun based on the stronger gravitational force.\n"
     ]
    }
   ],
   "source": [
    "# 1.14.Consider the gravitational interactions between the Earth, Moon, and Sun in our solar system. \n",
    "\n",
    "# Given:\n",
    "\n",
    "# mass_earth = 5.972e24  # Mass of Earth in kilograms\n",
    "\n",
    "# mass_moon = 7.34767309e22  # Mass of Moon in kilograms\n",
    "\n",
    "# mass_sun = \u0019.989e30  # Mass of Sun in kilograms\n",
    "\n",
    "\n",
    "# distan0e_earth_sun = \u0019.496e\u0019\u0019  # Average distan0e between Earth and Sun in meters\n",
    "\n",
    "# distan0e_moon_earth = 3.844e8  # Average distan0e between Moon and Earth in meters\n",
    "\n",
    "\n",
    "# Tasks\u0002\n",
    "# / Cal0ulate the gravitational for0e between the Earth and the Sun\u0018\n",
    "# / Cal0ulate the gravitational for0e between the Moon and the Earth\u0018\n",
    "# / Compare the 0al0ulated for0es to determine whi0h gravitational for0e is stronger\u0018\n",
    "# / Explain whi0h 0elestial body (Earth or Moon\u0003 is more attra0ted to the other based on the 0omparison\n",
    "\n",
    "\n",
    "\n",
    "\n",
    "# Constants\n",
    "G = 6.67430e-11  # Gravitational constant in m^3 kg^-1 s^-2\n",
    "mass_earth = 5.972e24  # Mass of Earth in kilograms\n",
    "mass_moon = 7.34767309e22  # Mass of Moon in kilograms\n",
    "mass_sun = 1.989e30  # Mass of Sun in kilograms\n",
    "\n",
    "distance_earth_sun = 1.496e11  # Average distance between Earth and Sun in meters\n",
    "distance_moon_earth = 3.844e8  # Average distance between Moon and Earth in meters\n",
    "\n",
    "# Calculate the gravitational force between Earth and Sun\n",
    "force_earth_sun = G * (mass_earth * mass_sun) / (distance_earth_sun ** 2)\n",
    "\n",
    "# Calculate the gravitational force between Moon and Earth\n",
    "force_moon_earth = G * (mass_moon * mass_earth) / (distance_moon_earth ** 2)\n",
    "\n",
    "# Compare the calculated forces\n",
    "stronger_force = \"Earth-Sun\" if force_earth_sun > force_moon_earth else \"Moon-Earth\"\n",
    "\n",
    "# Display the results\n",
    "print(f\"Gravitational force between Earth and Sun: {force_earth_sun:.2e} N\")\n",
    "print(f\"Gravitational force between Moon and Earth: {force_moon_earth:.2e} N\")\n",
    "print(f\"The stronger gravitational force is: {stronger_force}\")\n",
    "\n",
    "# Explanation of attraction\n",
    "if force_earth_sun > force_moon_earth:\n",
    "    print(\"The Earth is more attracted to the Sun based on the stronger gravitational force.\")\n",
    "else:\n",
    "    print(\"The Moon is more attracted to the Earth based on the stronger gravitational force.\")"
   ]
  }
 ],
 "metadata": {
  "kernelspec": {
   "display_name": "Python 3 (ipykernel)",
   "language": "python",
   "name": "python3"
  },
  "language_info": {
   "codemirror_mode": {
    "name": "ipython",
    "version": 3
   },
   "file_extension": ".py",
   "mimetype": "text/x-python",
   "name": "python",
   "nbconvert_exporter": "python",
   "pygments_lexer": "ipython3",
   "version": "3.10.8"
  }
 },
 "nbformat": 4,
 "nbformat_minor": 5
}

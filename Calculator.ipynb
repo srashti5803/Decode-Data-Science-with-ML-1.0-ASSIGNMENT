{
 "cells": [
  {
   "cell_type": "code",
   "execution_count": 2,
   "id": "9fce1fc2-5fea-4422-b997-e6e4208ed462",
   "metadata": {},
   "outputs": [
    {
     "name": "stdin",
     "output_type": "stream",
     "text": [
      "Enter the first number:  3\n",
      "Enter the operator (+, -, *, or /):  +\n",
      "Enter the second number:  4\n"
     ]
    },
    {
     "name": "stdout",
     "output_type": "stream",
     "text": [
      "Result: 7.0\n"
     ]
    }
   ],
   "source": [
    "#Write a program to create a simple calculator performing only four basic operations(+,-,/,*)\n",
    "def calculator(num1, operator, num2):\n",
    "    if operator== \"+\":\n",
    "        return num1+num2\n",
    "    elif operator== \"-\":\n",
    "        return num1-num2\n",
    "    elif operator == \"*\":\n",
    "        return num1 * num2\n",
    "    elif operator == \"/\":\n",
    "        if num2 == 0:\n",
    "            return \"Error: Cannot divide by zero\"\n",
    "        else:\n",
    "            return num1 / num2\n",
    "    else:\n",
    "        return \"Invalid operator. Please use +, -, *, or /.\"\n",
    "def main():\n",
    "    while True:\n",
    "        try:\n",
    "            num1 = float(input(\"Enter the first number: \"))\n",
    "            operator = input(\"Enter the operator (+, -, *, or /): \")\n",
    "            num2 = float(input(\"Enter the second number: \"))\n",
    "            result = calculator(num1, operator, num2)\n",
    "            print(f\"Result: {result}\")\n",
    "            break\n",
    "        except ValueError:\n",
    "            print(\"Invalid input. Please enter numbers only.\")\n",
    "\n",
    "if __name__ == \"__main__\":\n",
    "    main()"
   ]
  }
 ],
 "metadata": {
  "kernelspec": {
   "display_name": "Python 3 (ipykernel)",
   "language": "python",
   "name": "python3"
  },
  "language_info": {
   "codemirror_mode": {
    "name": "ipython",
    "version": 3
   },
   "file_extension": ".py",
   "mimetype": "text/x-python",
   "name": "python",
   "nbconvert_exporter": "python",
   "pygments_lexer": "ipython3",
   "version": "3.10.8"
  }
 },
 "nbformat": 4,
 "nbformat_minor": 5
}

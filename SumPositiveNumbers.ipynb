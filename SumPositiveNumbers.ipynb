{
 "cells": [
  {
   "cell_type": "code",
   "execution_count": 2,
   "id": "7fd7dce1-1f59-4cc8-b2d7-423fa3e3dafd",
   "metadata": {},
   "outputs": [
    {
     "name": "stdout",
     "output_type": "stream",
     "text": [
      "Enter positive numbers to add to the sum\n",
      "Enter a negative number to stop and display the sum\n"
     ]
    },
    {
     "name": "stdin",
     "output_type": "stream",
     "text": [
      "Enter a number:  1\n",
      "Enter a number:  2\n",
      "Enter a number:  3\n",
      "Enter a number:  4\n",
      "Enter a number:  -1\n"
     ]
    },
    {
     "name": "stdout",
     "output_type": "stream",
     "text": [
      "The sum of all positive numbers entered is: 10\n"
     ]
    }
   ],
   "source": [
    "#1.10.  Write a program to find the sum of all the positive numbers entered by the user. As soon as the user \n",
    "# enters a negative number, stop taking in any further input from the user and display the sum .\n",
    "\n",
    "\n",
    "sum_of_num=0\n",
    "\n",
    "print(\"Enter positive numbers to add to the sum\")\n",
    "print(\"Enter a negative number to stop and display the sum\")\n",
    "\n",
    "while True:\n",
    "    user_input= int(input(\"Enter a number: \"))\n",
    "    \n",
    "    if user_input<0:\n",
    "        break\n",
    "    sum_of_num+=user_input\n",
    "\n",
    "    \n",
    "print(f\"The sum of all positive numbers entered is: {sum_of_num}\")"
   ]
  }
 ],
 "metadata": {
  "kernelspec": {
   "display_name": "Python 3 (ipykernel)",
   "language": "python",
   "name": "python3"
  },
  "language_info": {
   "codemirror_mode": {
    "name": "ipython",
    "version": 3
   },
   "file_extension": ".py",
   "mimetype": "text/x-python",
   "name": "python",
   "nbconvert_exporter": "python",
   "pygments_lexer": "ipython3",
   "version": "3.10.8"
  }
 },
 "nbformat": 4,
 "nbformat_minor": 5
}
